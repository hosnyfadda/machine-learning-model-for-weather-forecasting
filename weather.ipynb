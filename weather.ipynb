{
  "cells": [
    {
      "cell_type": "code",
      "execution_count": 86,
      "id": "74396a8d-671a-4936-8d9d-02ff45868136",
      "metadata": {
        "id": "74396a8d-671a-4936-8d9d-02ff45868136"
      },
      "outputs": [],
      "source": [
        "import requests\n",
        "import numpy as np\n",
        "import pandas as pd\n",
        "import seaborn as sns\n",
        "import matplotlib.pyplot as plt\n",
        "from sklearn.preprocessing import LabelEncoder\n",
        "from sklearn.model_selection import train_test_split\n",
        "from sklearn.ensemble import RandomForestRegressor, RandomForestClassifier\n",
        "from sklearn.metrics import mean_absolute_error, mean_squared_error\n",
        "from datetime import datetime, timedelta\n",
        "import pytz"
      ]
    },
    {
      "cell_type": "code",
      "execution_count": 87,
      "id": "853b232b-cfe0-43d8-bf73-b23ccffdb701",
      "metadata": {
        "id": "853b232b-cfe0-43d8-bf73-b23ccffdb701"
      },
      "outputs": [],
      "source": [
        "API_KEY = \"39357f117056c535298fe0df516ce3e3\"\n",
        "BASE_URL = \"https://api.openweathermap.org/data/2.5/weather\""
      ]
    },
    {
      "cell_type": "code",
      "execution_count": 88,
      "id": "fced152f-0bf4-424b-a579-e5359ba2e816",
      "metadata": {
        "id": "fced152f-0bf4-424b-a579-e5359ba2e816"
      },
      "outputs": [],
      "source": [
        "def weather(city):\n",
        "    url = f\"{BASE_URL}?q={city}&appid={API_KEY}&units=metric\"\n",
        "    try:\n",
        "        response = requests.get(url)\n",
        "        data = response.json()\n",
        "\n",
        "        if response.status_code != 200:\n",
        "            raise Exception(f\"Error: {data.get('message', 'Unknown error')}\")\n",
        "\n",
        "        return {\n",
        "            'city': data.get('name', 'Unknown'),\n",
        "            'current_temp': round(data['main'].get('temp', 0)),\n",
        "            'feels_like': round(data['main'].get('feels_like', 0)),\n",
        "            'temp_min': round(data['main'].get('temp_min', 0)),\n",
        "            'temp_max': round(data['main'].get('temp_max', 0)),\n",
        "            'humidity': round(data['main'].get('humidity', 0)),\n",
        "            'description': data['weather'][0]['description'] if 'weather' in data else 'N/A',\n",
        "            'country': data['sys'].get('country', 'N/A'),\n",
        "            'WindGustSpeed': data['wind'].get('speed', 0),\n",
        "            'WindGustDir': data['wind'].get('deg', 0),\n",
        "            'Pressure': data['main'].get('pressure', 0)\n",
        "        }\n",
        "    except Exception as e:\n",
        "        print(f\"Error fetching weather data: {e}\")\n",
        "        return {}"
      ]
    },
    {
      "cell_type": "code",
      "execution_count": 89,
      "id": "f167f3e9-a155-41d7-81e5-689cacb43935",
      "metadata": {
        "id": "f167f3e9-a155-41d7-81e5-689cacb43935"
      },
      "outputs": [],
      "source": [
        "def load_data(filename):\n",
        "    try:\n",
        "        df = pd.read_csv(filename, sep=',', encoding='utf-8')\n",
        "        df = df.dropna()\n",
        "        df = df.drop_duplicates()\n",
        "        return df\n",
        "    except Exception as e:\n",
        "        print(f\"Error loading data: {e}\")\n",
        "        return pd.DataFrame()"
      ]
    },
    {
      "cell_type": "code",
      "execution_count": 90,
      "id": "c894da08-ac59-4957-8929-3897d0446bdd",
      "metadata": {
        "id": "c894da08-ac59-4957-8929-3897d0446bdd"
      },
      "outputs": [],
      "source": [
        "def prepare(data):\n",
        "    le = LabelEncoder()\n",
        "    if 'WindGustDir' in data.columns:\n",
        "        data['WindGustDir'] = le.fit_transform(data['WindGustDir'].astype(str))\n",
        "    if 'RainTomorrow' in data.columns:\n",
        "        data['RainTomorrow'] = le.fit_transform(data['RainTomorrow'].astype(str))\n",
        "    required_columns = ['MinTemp', 'MaxTemp', 'WindGustDir', 'WindGustSpeed', 'Humidity', 'Pressure']\n",
        "    available_columns = [col for col in required_columns if col in data.columns]\n",
        "    if len(available_columns) < len(required_columns):\n",
        "        print(f\"Warning: Missing columns {set(required_columns) - set(available_columns)}\")\n",
        "    X = data[available_columns]\n",
        "    y = data['RainTomorrow'] if 'RainTomorrow' in data.columns else None\n",
        "    return X, y, le"
      ]
    },
    {
      "cell_type": "code",
      "execution_count": 91,
      "id": "1fe9f4af-fec2-4836-8460-03800f75bed6",
      "metadata": {
        "id": "1fe9f4af-fec2-4836-8460-03800f75bed6"
      },
      "outputs": [],
      "source": [
        "def train_rain_model(x, y):\n",
        "    x_train, x_test, y_train, y_test = train_test_split(x, y, test_size=0.2, random_state=42)\n",
        "    model = RandomForestClassifier(n_estimators=100 ,random_state=42)\n",
        "    model.fit(x_train, y_train)\n",
        "    y_pred = model.predict(x_test)\n",
        "    print(\"Mean Squared Error:\")\n",
        "    print(mean_squared_error(y_test, y_pred))\n",
        "    return model"
      ]
    },
    {
      "cell_type": "code",
      "execution_count": 92,
      "id": "48f44cd0-6d00-4a46-bc61-2cfdf5d0b2a4",
      "metadata": {
        "id": "48f44cd0-6d00-4a46-bc61-2cfdf5d0b2a4"
      },
      "outputs": [],
      "source": [
        "def prepare_regression_data(data, feature):\n",
        "    x, y = [], []\n",
        "    for i in range(len(data) - 1):\n",
        "        x.append(data[feature].iloc[i])\n",
        "        y.append(data[feature].iloc[i + 1])\n",
        "    x = np.array(x).reshape(-1, 1)\n",
        "    y = np.array(y)\n",
        "    return x, y"
      ]
    },
    {
      "cell_type": "code",
      "execution_count": 93,
      "id": "85c5429b-6d1f-414f-ad00-a32098527c38",
      "metadata": {
        "id": "85c5429b-6d1f-414f-ad00-a32098527c38"
      },
      "outputs": [],
      "source": [
        "def train_regression_model(x, y):\n",
        "    model = RandomForestRegressor(random_state=42)\n",
        "    model.fit(x, y)\n",
        "    return model"
      ]
    },
    {
      "cell_type": "code",
      "execution_count": 94,
      "id": "19de8d13-5643-4500-9822-36559f2ecced",
      "metadata": {
        "id": "19de8d13-5643-4500-9822-36559f2ecced"
      },
      "outputs": [],
      "source": [
        "def predict_future(model, value):\n",
        "    prediction = [value]\n",
        "    for i in range(5):\n",
        "        next_value = model.predict(np.array([prediction[-1]]).reshape(-1, 1))\n",
        "        prediction.append(next_value[0])\n",
        "    return prediction[1:]"
      ]
    },
    {
      "cell_type": "code",
      "execution_count": 122,
      "id": "8fcb28d6-f1ae-4430-9d0e-882013dea4d1",
      "metadata": {
        "id": "8fcb28d6-f1ae-4430-9d0e-882013dea4d1"
      },
      "outputs": [],
      "source": [
        "def weather_view():\n",
        "    city = input(\"Enter city name: \")\n",
        "\n",
        "    current_weather = weather(city)\n",
        "    if not current_weather:\n",
        "        print(\"Failed to retrieve weather data.\")\n",
        "        return\n",
        "\n",
        "    historical_data = load_data('/content/weather.csv')\n",
        "\n",
        "    x, y, le = prepare(historical_data)\n",
        "    rain_model = train_rain_model(x, y)\n",
        "\n",
        "    wind_deg = current_weather['WindGustDir'] % 360\n",
        "    compass_points = [\n",
        "        (\"N\", 0, 22.5), (\"NE\", 22.5, 67.5), (\"E\", 67.5, 112.5), (\"SE\", 112.5, 157.5),\n",
        "        (\"S\", 157.5, 202.5), (\"SW\", 202.5, 247.5), (\"W\", 247.5, 292.5), (\"NW\", 292.5, 337.5), (\"N\", 337.5, 360)\n",
        "    ]\n",
        "    compass_direction = next((point for point, start, end in compass_points if start <= wind_deg < end), \"Unknown\")\n",
        "    compass_direction_encoded = le.transform([compass_direction])[0] if compass_direction in le.classes_ else -1\n",
        "\n",
        "    current_data = {\n",
        "        'MinTemp': current_weather['temp_min'],\n",
        "        'MaxTemp': current_weather['temp_max'],\n",
        "        'WindGustDir': compass_direction_encoded,\n",
        "        'WindGustSpeed': current_weather['WindGustSpeed'],\n",
        "        'Humidity': current_weather['humidity'],\n",
        "        'Pressure': current_weather['Pressure'],\n",
        "    }\n",
        "\n",
        "    current_df = pd.DataFrame([current_data])\n",
        "    rain_prediction = rain_model.predict(current_df)[0]\n",
        "    rain_probability = \"Yes\" if rain_prediction == 1 else \"No\"\n",
        "\n",
        "    x_temp, y_temp = prepare_regression_data(historical_data, 'Temp')\n",
        "    x_hum, y_hum = prepare_regression_data(historical_data, 'Humidity')\n",
        "    x_wind, y_wind = prepare_regression_data(historical_data, 'WindGustSpeed')\n",
        "\n",
        "    temp_model = train_regression_model(x_temp, y_temp)\n",
        "    hum_model = train_regression_model(x_hum, y_hum)\n",
        "    wind_model = train_regression_model(x_wind, y_wind)\n",
        "\n",
        "    future_temps = predict_future(temp_model, current_weather['temp_min'])\n",
        "    future_hums = predict_future(hum_model, current_weather['humidity'])\n",
        "    future_winds = predict_future(wind_model, current_weather['WindGustSpeed'])\n",
        "\n",
        "    timezone = pytz.timezone(\"Africa/Cairo\")\n",
        "    now = datetime.now(timezone)\n",
        "    next_hour = now + timedelta(hours=1)\n",
        "    next_hour = next_hour.replace(minute=0, second=0, microsecond=0)\n",
        "    future_times = [(next_hour + timedelta(hours=i)).strftime(\"%H:%M\") for i in range(5)]\n",
        "\n",
        "    future_rain = future_rain_prediction(rain_model, current_data, future_times=future_times)\n",
        "\n",
        "    print(f\"City: {current_weather['city']}, {current_weather['country']}\")\n",
        "    print(f\"Current Temperature: {current_weather['current_temp']}°C\")\n",
        "    print(f\"Feels Like: {current_weather['feels_like']}°C\")\n",
        "    print(f\"Min Temperature: {current_weather['temp_min']}°C, Max Temperature: {current_weather['temp_max']}°C\")\n",
        "    print(f\"Humidity: {current_weather['humidity']}%\")\n",
        "    print(f\"Description: {current_weather['description']}\")\n",
        "    print(f\"Pressure: {current_weather['Pressure']} hPa\")\n",
        "    print(f\"Wind: {current_weather['WindGustSpeed']} km/h, Direction: {compass_direction}\")\n",
        "    print(f\"Rain Prediction: {rain_probability}\")\n",
        "    print(\"\\nFuture Weather Predictions:\")\n",
        "    print(\"Time\\t\\tTemp (°C)\\tHumidity (%)\\tWind (km/h)\\tRain\")\n",
        "    for time, temp, hum, wind, rain in zip(future_times, future_temps, future_hums, future_winds, future_rain):\n",
        "        print(f\"{time}\\t\\t{round(temp,1)}°C\\t\\t{round(hum,1)}%\\t\\t{round(wind,1)} km/h\\t{rain}\")\n"
      ]
    },
    {
      "cell_type": "code",
      "execution_count": 124,
      "id": "9905f8fb-55ad-4621-9132-50c821dbc758",
      "metadata": {
        "colab": {
          "base_uri": "https://localhost:8080/"
        },
        "collapsed": true,
        "id": "9905f8fb-55ad-4621-9132-50c821dbc758",
        "outputId": "5be0aafd-c036-4954-9d9c-975920c99544"
      },
      "outputs": [
        {
          "output_type": "stream",
          "name": "stdout",
          "text": [
            "Enter city name: beni suef\n",
            "Mean Squared Error:\n",
            "0.1506849315068493\n",
            "City: Beni Suef, EG\n",
            "Current Temperature: 12°C\n",
            "Feels Like: 10°C\n",
            "Min Temperature: 12°C, Max Temperature: 12°C\n",
            "Humidity: 39%\n",
            "Description: clear sky\n",
            "Pressure: 1019 hPa\n",
            "Wind: 0.12 km/h, Direction: E\n",
            "Rain Prediction: No\n",
            "\n",
            "Future Weather Predictions:\n",
            "Time\t\tTemp (°C)\tHumidity (%)\tWind (km/h)\tRain\n",
            "08:00\t\t12.8°C\t\t31.7%\t\t28.3 km/h\tNo\n",
            "09:00\t\t12.4°C\t\t38.0%\t\t35.4 km/h\tNo\n",
            "10:00\t\t14.4°C\t\t52.3%\t\t36.1 km/h\tNo\n",
            "11:00\t\t13.4°C\t\t43.4%\t\t36.1 km/h\tNo\n",
            "12:00\t\t13.6°C\t\t46.8%\t\t36.1 km/h\tNo\n"
          ]
        }
      ],
      "source": [
        "weather_view()"
      ]
    }
  ],
  "metadata": {
    "kernelspec": {
      "display_name": "Python 3 (ipykernel)",
      "language": "python",
      "name": "python3"
    },
    "language_info": {
      "codemirror_mode": {
        "name": "ipython",
        "version": 3
      },
      "file_extension": ".py",
      "mimetype": "text/x-python",
      "name": "python",
      "nbconvert_exporter": "python",
      "pygments_lexer": "ipython3",
      "version": "3.11.7"
    },
    "colab": {
      "provenance": []
    }
  },
  "nbformat": 4,
  "nbformat_minor": 5
}